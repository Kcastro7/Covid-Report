{
  "cells": [
    {
      "cell_type": "markdown",
      "metadata": {
        "id": "view-in-github",
        "colab_type": "text"
      },
      "source": [
        "<a href=\"https://colab.research.google.com/github/Kcastro7/Covid-Report/blob/main/python_test_nub78.ipynb\" target=\"_parent\"><img src=\"https://colab.research.google.com/assets/colab-badge.svg\" alt=\"Open In Colab\"/></a>"
      ]
    },
    {
      "cell_type": "markdown",
      "id": "f068e0a4",
      "metadata": {
        "id": "f068e0a4"
      },
      "source": [
        "# NUB 7/8 - Test"
      ]
    },
    {
      "cell_type": "code",
      "execution_count": 2,
      "id": "286bef8a",
      "metadata": {
        "colab": {
          "base_uri": "https://localhost:8080/"
        },
        "id": "286bef8a",
        "outputId": "be62d046-713a-48ba-dc53-c8c75282ca99"
      },
      "outputs": [
        {
          "output_type": "stream",
          "name": "stdout",
          "text": [
            "Kevin Daniel Castro Amaya\n"
          ]
        }
      ],
      "source": [
        "#Please print your full name here\n",
        "print(\"Kevin Daniel Castro Amaya\")\n"
      ]
    },
    {
      "cell_type": "code",
      "execution_count": 193,
      "id": "51392673",
      "metadata": {
        "id": "51392673"
      },
      "outputs": [],
      "source": [
        "# Import any library that you think is required\n",
        "import pandas as pd\n",
        "import numpy as np\n",
        "from matplotlib import pyplot as plt"
      ]
    },
    {
      "cell_type": "markdown",
      "id": "d376b448",
      "metadata": {
        "id": "d376b448"
      },
      "source": [
        "### Part 1\n",
        "\n",
        "Please answer the following questions with your analysis from the dataset called \"COVID19_confirmed_global.csv\"."
      ]
    },
    {
      "cell_type": "markdown",
      "id": "0b08cabb",
      "metadata": {
        "id": "0b08cabb"
      },
      "source": [
        "1. what is the month with the highest number of confirmed covid cases reported?"
      ]
    },
    {
      "cell_type": "code",
      "execution_count": 103,
      "id": "0eac7ab7",
      "metadata": {
        "colab": {
          "base_uri": "https://localhost:8080/"
        },
        "id": "0eac7ab7",
        "outputId": "00db8918-2664-48e7-f55c-f44c0e73f288"
      },
      "outputs": [
        {
          "output_type": "stream",
          "name": "stdout",
          "text": [
            "5 del 2022\n"
          ]
        }
      ],
      "source": [
        "# write your code here\n",
        "df = pd.read_csv('https://raw.githubusercontent.com/Kcastro7/Covid-Report/main/COVID19_confirmed_global.csv')\n",
        "valor = df.sum(axis=0, numeric_only=True)[2:]\n",
        "fecha = list(df.columns.values)[4:]\n",
        "num = 0\n",
        "mes = 1\n",
        "fechaMayor = \"\"\n",
        "totalMes = 0\n",
        "mayor = 0\n",
        "for dato in valor:\n",
        "  if str(mes) == fecha[num].split(\"/\")[0]:\n",
        "    totalMes = totalMes + dato\n",
        "  else:\n",
        "    mes = fecha[num].split(\"/\")[0]\n",
        "    if mayor < totalMes:\n",
        "      mayor = totalMes\n",
        "      fechaMayor = fecha[num-1].split(\"/\")[0] + \" del \" + fecha[num-1].split(\"/\")[2]\n",
        "    totalMes = dato\n",
        "  num = num + 1 \n",
        "print(fechaMayor)\n",
        "  \n",
        "\n"
      ]
    },
    {
      "cell_type": "markdown",
      "id": "abf26b95",
      "metadata": {
        "id": "abf26b95"
      },
      "source": [
        "2. what is the country/region with the highest number of confirmed covid cases reported?"
      ]
    },
    {
      "cell_type": "code",
      "execution_count": 171,
      "id": "1567ad6e",
      "metadata": {
        "colab": {
          "base_uri": "https://localhost:8080/"
        },
        "id": "1567ad6e",
        "outputId": "99eba55e-bfa5-4129-ffbb-dd44286b2af6"
      },
      "outputs": [
        {
          "output_type": "stream",
          "name": "stdout",
          "text": [
            "US\n"
          ]
        }
      ],
      "source": [
        "# write your code here\n",
        "df = pd.read_csv('https://raw.githubusercontent.com/Kcastro7/Covid-Report/main/COVID19_confirmed_global.csv')\n",
        "df2 = df.loc[:,\"1/22/2020\":]\n",
        "valor = df2.sum(axis=1, numeric_only=True)\n",
        "id = valor.idxmax()\n",
        "print(df.loc[id,\"Country/Region\"])"
      ]
    },
    {
      "cell_type": "markdown",
      "id": "a6fd3449",
      "metadata": {
        "id": "a6fd3449"
      },
      "source": [
        "### Part 2\n",
        "\n",
        "Please answer the following questions with your analysis from the dataset called \"COVID19_confirmed_global.csv\"."
      ]
    },
    {
      "cell_type": "markdown",
      "id": "e6b1774d",
      "metadata": {
        "id": "e6b1774d"
      },
      "source": [
        "1. Build a plot showing the growth of COVID-19 cases, month by month, for the three countries with the most reported cases."
      ]
    },
    {
      "cell_type": "code",
      "execution_count": 240,
      "id": "18a636db",
      "metadata": {
        "colab": {
          "base_uri": "https://localhost:8080/",
          "height": 276
        },
        "id": "18a636db",
        "outputId": "579f4bcc-b5b4-4de3-e2b0-d7aee18c7326"
      },
      "outputs": [
        {
          "output_type": "display_data",
          "data": {
            "text/plain": [
              "<Figure size 432x288 with 1 Axes>"
            ],
            "image/png": "[encoded data removed]"
          },
          "metadata": {
            "needs_background": "light"
          }
        }
      ],
      "source": [
        "# write your code here\n",
        "df = pd.read_csv('https://raw.githubusercontent.com/Kcastro7/Covid-Report/main/COVID19_confirmed_global.csv')\n",
        "fecha = list(df.columns.values)[4:]\n",
        "df2 = df.loc[:,\"1/22/2020\":]\n",
        "valor = df2.sum(axis=1, numeric_only=True)\n",
        "ids = []\n",
        "\n",
        "colors = [\"green\", \"blue\", \"red\"]\n",
        "for i in range(0,3):  \n",
        "  \n",
        "  id = valor.idxmax()\n",
        "  ids.append(id)\n",
        "  valor = valor.drop(valor.index[id])\n",
        "\n",
        "\n",
        "\n",
        "n = 0\n",
        "for i in ids:\n",
        "  contagiosMes = []\n",
        "  mesesArr = [] \n",
        "  df2 = df.loc[i,\"1/22/2020\":]\n",
        "  num = 0\n",
        "  mes = 1\n",
        "  totalMes = 0\n",
        "  for dato in df2:\n",
        "    \n",
        "    if str(mes) == fecha[num].split(\"/\")[0]:\n",
        "      totalMes = totalMes + dato\n",
        "    else:\n",
        "      mes = fecha[num].split(\"/\")[0]\n",
        "      contagiosMes.append(totalMes)\n",
        "      totalMes = dato\n",
        "      mesesArr.append(fecha[num-1].split(\"/\")[0] + \" del \" + fecha[num-1].split(\"/\")[2])\n",
        "    num = num + 1\n",
        "  plt.plot(mesesArr,contagiosMes, color = colors[n], label = df.loc[i,\"Country/Region\"])\n",
        "  plt.legend()\n",
        "  n = n + 1\n",
        "plt.show()\n",
        "\n"
      ]
    },
    {
      "cell_type": "markdown",
      "id": "3eac50a7",
      "metadata": {
        "id": "3eac50a7"
      },
      "source": [
        "2. Build a plot showing a comparison of the total of COVID-19 cases reported between any 5 countries/regions."
      ]
    },
    {
      "cell_type": "code",
      "execution_count": 239,
      "id": "961b1b66",
      "metadata": {
        "colab": {
          "base_uri": "https://localhost:8080/",
          "height": 276
        },
        "id": "961b1b66",
        "outputId": "0ab175a4-63e9-4280-876a-8a389904d4fc"
      },
      "outputs": [
        {
          "output_type": "display_data",
          "data": {
            "text/plain": [
              "<Figure size 432x288 with 1 Axes>"
            ],
            "image/png": "[encoded data removed]"
          },
          "metadata": {
            "needs_background": "light"
          }
        }
      ],
      "source": [
        "# write your code here\n",
        "df = pd.read_csv('https://raw.githubusercontent.com/Kcastro7/Covid-Report/main/COVID19_confirmed_global.csv')\n",
        "df2 = df.loc[:,\"1/22/2020\":]\n",
        "valor = df2.sum(axis=1, numeric_only=True)\n",
        "plt.bar(df.loc[0,\"Country/Region\"],valor[0], color=\"green\")\n",
        "plt.bar(df.loc[6,\"Country/Region\"],valor[6], color=\"red\")\n",
        "plt.bar(df.loc[2,\"Country/Region\"],valor[2], color=\"blue\")\n",
        "plt.show()"
      ]
    },
    {
      "cell_type": "markdown",
      "id": "ac879a62",
      "metadata": {
        "id": "ac879a62"
      },
      "source": [
        "### Part 3\n",
        "\n",
        "Please based on your analysis from the dataset called \"COVID19_confirmed_global.csv\", share an insight (and justify it) that you consider relevant from the data provided."
      ]
    },
    {
      "cell_type": "code",
      "execution_count": 228,
      "id": "292e4d4f",
      "metadata": {
        "colab": {
          "base_uri": "https://localhost:8080/"
        },
        "id": "292e4d4f",
        "outputId": "5e7b76ae-d7d2-4441-dcc9-f4e46a749e95"
      },
      "outputs": [
        {
          "output_type": "stream",
          "name": "stdout",
          "text": [
            "1/22/2020\n"
          ]
        }
      ],
      "source": [
        "# write your code here\n",
        "#"
      ]
    }
  ],
  "metadata": {
    "kernelspec": {
      "display_name": "Python 3 (ipykernel)",
      "language": "python",
      "name": "python3"
    },
    "language_info": {
      "codemirror_mode": {
        "name": "ipython",
        "version": 3
      },
      "file_extension": ".py",
      "mimetype": "text/x-python",
      "name": "python",
      "nbconvert_exporter": "python",
      "pygments_lexer": "ipython3",
      "version": "3.9.7"
    },
    "colab": {
      "provenance": [],
      "collapsed_sections": [],
      "include_colab_link": true
    }
  },
  "nbformat": 4,
  "nbformat_minor": 5
}